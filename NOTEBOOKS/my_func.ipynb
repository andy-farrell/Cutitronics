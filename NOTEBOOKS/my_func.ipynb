{
 "cells": [
  {
   "cell_type": "code",
   "execution_count": 1,
   "metadata": {},
   "outputs": [],
   "source": [
    "\n",
    "# Library Imports\n",
    "import os\n",
    "import import_ipynb\n",
    "import pandas as pd\n",
    "import seaborn as sns\n",
    "import matplotlib.pyplot as plt\n",
    "import numpy as np\n",
    "from statistics import mean, median, mode, stdev\n",
    "# from Descript import extract\n",
    "%matplotlib inline\n"
   ]
  },
  {
   "cell_type": "code",
   "execution_count": 3,
   "metadata": {},
   "outputs": [],
   "source": [
    "\n",
    "def missed(dfName):\n",
    "    # Assign global to returned DFs\n",
    "    global df\n",
    "    global grouped_df\n",
    "    \n",
    "    # Assign df to the df name provided\n",
    "    df = dfName\n",
    "    \n",
    "    # Apply funcion used for finding missed usage dates\n",
    "    def foo(gr):\n",
    "        gr = gr.set_index('treatmentDate')\n",
    "        idx = pd.date_range(gr.index.min(), gr.index.max())\n",
    "        gr.index = pd.DatetimeIndex(gr.index)\n",
    "        gr = gr.reindex(idx,  fill_value=0)\n",
    "        return gr\n",
    "    \n",
    "    # Groupby and Apply function\n",
    "    df = df.groupby(['CutitronicsClientID', 'CutitronicsSKUName']).apply(func=foo)\n",
    "    \n",
    "    # Groupy causes duplicate column with one as index\n",
    "    # The col version is dropped to allow for reset of index\n",
    "    df = df.drop(['CutitronicsClientID', 'CutitronicsSKUName'], axis = 1) \n",
    "    grouped_df = df\n",
    "    df = df.reset_index()\n",
    "    df =df.rename(columns={\"level_2\": \"treatmentDate\"})\n",
    "    \n",
    "    # Default of 0 is applied to all vlaues in missed usage row.\n",
    "    # Alters comliance value to 'Missed' rather than 0\n",
    "    for i, row in df.iterrows():\n",
    "        if row['compliance'] == 0:\n",
    "            complied = 'MISSED'\n",
    "        else:\n",
    "            complied = row['compliance']\n",
    "        df.loc[i,'compliance'] = complied  "
   ]
  },
  {
   "cell_type": "code",
   "execution_count": null,
   "metadata": {},
   "outputs": [],
   "source": []
  }
 ],
 "metadata": {
  "kernelspec": {
   "display_name": "Python 3",
   "language": "python",
   "name": "python3"
  },
  "language_info": {
   "codemirror_mode": {
    "name": "ipython",
    "version": 3
   },
   "file_extension": ".py",
   "mimetype": "text/x-python",
   "name": "python",
   "nbconvert_exporter": "python",
   "pygments_lexer": "ipython3",
   "version": "3.7.2"
  }
 },
 "nbformat": 4,
 "nbformat_minor": 2
}
