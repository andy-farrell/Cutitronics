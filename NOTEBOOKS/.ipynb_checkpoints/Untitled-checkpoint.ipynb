{
 "cells": [
  {
   "cell_type": "code",
   "execution_count": 28,
   "metadata": {},
   "outputs": [
    {
     "ename": "ImportError",
     "evalue": "cannot import name 'dtConv' from 'function' (function.ipynb)",
     "output_type": "error",
     "traceback": [
      "\u001b[0;31m---------------------------------------------------------------------------\u001b[0m",
      "\u001b[0;31mImportError\u001b[0m                               Traceback (most recent call last)",
      "\u001b[0;32m<ipython-input-28-794766e54b11>\u001b[0m in \u001b[0;36m<module>\u001b[0;34m()\u001b[0m\n\u001b[1;32m      7\u001b[0m \u001b[0;32mimport\u001b[0m \u001b[0mnumpy\u001b[0m \u001b[0;32mas\u001b[0m \u001b[0mnp\u001b[0m\u001b[0;34m\u001b[0m\u001b[0;34m\u001b[0m\u001b[0m\n\u001b[1;32m      8\u001b[0m \u001b[0;32mfrom\u001b[0m \u001b[0mstatistics\u001b[0m \u001b[0;32mimport\u001b[0m \u001b[0mmean\u001b[0m\u001b[0;34m,\u001b[0m \u001b[0mmedian\u001b[0m\u001b[0;34m,\u001b[0m \u001b[0mmode\u001b[0m\u001b[0;34m,\u001b[0m \u001b[0mstdev\u001b[0m\u001b[0;34m\u001b[0m\u001b[0;34m\u001b[0m\u001b[0m\n\u001b[0;32m----> 9\u001b[0;31m \u001b[0;32mfrom\u001b[0m \u001b[0mfunction\u001b[0m \u001b[0;32mimport\u001b[0m \u001b[0msay_hello\u001b[0m\u001b[0;34m,\u001b[0m \u001b[0mdtConv\u001b[0m\u001b[0;34m\u001b[0m\u001b[0;34m\u001b[0m\u001b[0m\n\u001b[0m\u001b[1;32m     10\u001b[0m \u001b[0mget_ipython\u001b[0m\u001b[0;34m(\u001b[0m\u001b[0;34m)\u001b[0m\u001b[0;34m.\u001b[0m\u001b[0mrun_line_magic\u001b[0m\u001b[0;34m(\u001b[0m\u001b[0;34m'matplotlib'\u001b[0m\u001b[0;34m,\u001b[0m \u001b[0;34m'inline'\u001b[0m\u001b[0;34m)\u001b[0m\u001b[0;34m\u001b[0m\u001b[0;34m\u001b[0m\u001b[0m\n",
      "\u001b[0;31mImportError\u001b[0m: cannot import name 'dtConv' from 'function' (function.ipynb)"
     ]
    }
   ],
   "source": [
    "# Library Imports\n",
    "import os\n",
    "import import_ipynb\n",
    "import pandas as pd\n",
    "import seaborn as sns\n",
    "import matplotlib.pyplot as plt\n",
    "import numpy as np\n",
    "from statistics import mean, median, mode, stdev\n",
    "from function import say_hello, dtConv\n",
    "%matplotlib inline"
   ]
  },
  {
   "cell_type": "code",
   "execution_count": 29,
   "metadata": {},
   "outputs": [
    {
     "name": "stdout",
     "output_type": "stream",
     "text": [
      "<class 'pandas.core.frame.DataFrame'>\n",
      "RangeIndex: 341 entries, 0 to 340\n",
      "Data columns (total 48 columns):\n",
      "CutitronicsTreatmentID    336 non-null float64\n",
      "TreatmentNumber           336 non-null float64\n",
      "CutitronicsCartID         336 non-null object\n",
      "CutitronicsSKUID          336 non-null object\n",
      "CartLevel                 336 non-null float64\n",
      "CartState                 336 non-null object\n",
      "CartDispensedAmount       336 non-null float64\n",
      "CartEnvTemperature        336 non-null float64\n",
      "CartEnvHumidity           336 non-null float64\n",
      "CartEnvPollution          336 non-null float64\n",
      "CartEnvUv                 336 non-null float64\n",
      "CutitronicsClientID       336 non-null object\n",
      "TreatmentStartDate        336 non-null object\n",
      "TreatmentType             336 non-null object\n",
      "CutitronicsCtrlID         336 non-null object\n",
      "CtrlBatteryLevel          336 non-null float64\n",
      "CtrlTemperature           336 non-null float64\n",
      "CtrlDatetime              336 non-null object\n",
      "CtrlState                 336 non-null object\n",
      "CtrlStatus                336 non-null object\n",
      "CtrlFirmwareVersion       336 non-null object\n",
      "CtrlLatitude              336 non-null float64\n",
      "CtrlLongitude             336 non-null float64\n",
      "CtrlSkinHealth            336 non-null float64\n",
      "CtrlHumidity              336 non-null float64\n",
      "CtrlaccData               336 non-null float64\n",
      "MeasurementArea           336 non-null object\n",
      "Status                    224 non-null object\n",
      "clientLat                 336 non-null float64\n",
      "clientLon                 336 non-null float64\n",
      "FirstName                 336 non-null object\n",
      "Surname                   336 non-null object\n",
      "YOB                       336 non-null float64\n",
      "Gender                    336 non-null object\n",
      "FITZP                     336 non-null float64\n",
      "SkinConcerns              336 non-null object\n",
      "Allergies                 336 non-null object\n",
      "CutitronicsBrandID        336 non-null object\n",
      "CutitronicsSKUCat         336 non-null object\n",
      "CutitronicsSKUType        336 non-null object\n",
      "CutitronicsSKUName        336 non-null object\n",
      "prescribedOn              336 non-null object\n",
      "PrescriptionName          321 non-null object\n",
      "PrescriptionType          336 non-null object\n",
      "presrcibedAM              336 non-null float64\n",
      "prescribedPM              336 non-null float64\n",
      "CartInitLevel             336 non-null float64\n",
      "installDate               336 non-null object\n",
      "dtypes: float64(22), object(26)\n",
      "memory usage: 128.0+ KB\n"
     ]
    }
   ],
   "source": [
    "df = pd.read_csv(\"../DATA/newTest.csv\", sep=\",\", header=0)\n",
    "df.info()"
   ]
  },
  {
   "cell_type": "code",
   "execution_count": 30,
   "metadata": {},
   "outputs": [
    {
     "name": "stdout",
     "output_type": "stream",
     "text": [
      "Hello from Function!\n"
     ]
    }
   ],
   "source": [
    "say_hello()"
   ]
  },
  {
   "cell_type": "code",
   "execution_count": 31,
   "metadata": {},
   "outputs": [
    {
     "ename": "NameError",
     "evalue": "name 'dtConv' is not defined",
     "output_type": "error",
     "traceback": [
      "\u001b[0;31m---------------------------------------------------------------------------\u001b[0m",
      "\u001b[0;31mNameError\u001b[0m                                 Traceback (most recent call last)",
      "\u001b[0;32m<ipython-input-31-8a159e5dd591>\u001b[0m in \u001b[0;36m<module>\u001b[0;34m()\u001b[0m\n\u001b[0;32m----> 1\u001b[0;31m \u001b[0mdtConv\u001b[0m\u001b[0;34m(\u001b[0m\u001b[0mdf\u001b[0m\u001b[0;34m)\u001b[0m\u001b[0;34m\u001b[0m\u001b[0;34m\u001b[0m\u001b[0m\n\u001b[0m",
      "\u001b[0;31mNameError\u001b[0m: name 'dtConv' is not defined"
     ]
    }
   ],
   "source": [
    "dtConv(df)"
   ]
  },
  {
   "cell_type": "code",
   "execution_count": null,
   "metadata": {},
   "outputs": [],
   "source": []
  }
 ],
 "metadata": {
  "kernelspec": {
   "display_name": "Python 3",
   "language": "python",
   "name": "python3"
  },
  "language_info": {
   "codemirror_mode": {
    "name": "ipython",
    "version": 3
   },
   "file_extension": ".py",
   "mimetype": "text/x-python",
   "name": "python",
   "nbconvert_exporter": "python",
   "pygments_lexer": "ipython3",
   "version": "3.7.2"
  }
 },
 "nbformat": 4,
 "nbformat_minor": 2
}
